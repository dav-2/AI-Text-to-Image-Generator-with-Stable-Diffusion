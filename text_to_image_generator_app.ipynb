{
  "nbformat": 4,
  "nbformat_minor": 0,
  "metadata": {
    "colab": {
      "provenance": [],
      "gpuType": "T4",
      "authorship_tag": "ABX9TyOnqsFNVmIJnkhKD2XO5o7P",
      "include_colab_link": true
    },
    "kernelspec": {
      "name": "python3",
      "display_name": "Python 3"
    },
    "language_info": {
      "name": "python"
    },
    "accelerator": "GPU"
  },
  "cells": [
    {
      "cell_type": "markdown",
      "metadata": {
        "id": "view-in-github",
        "colab_type": "text"
      },
      "source": [
        "<a href=\"https://colab.research.google.com/github/dav-2/Text-to-Image-Generator-Flask-App-Created-Using-the-Stable-Diffusion-Model/blob/main/text_to_image_generator_app.ipynb\" target=\"_parent\"><img src=\"https://colab.research.google.com/assets/colab-badge.svg\" alt=\"Open In Colab\"/></a>"
      ]
    },
    {
      "cell_type": "markdown",
      "source": [
        "<h1>Text to Image Generator Flask App Created in Google Colab Using the Stable Diffusion Model.</h1>"
      ],
      "metadata": {
        "id": "tPKKDFRX56x2"
      }
    },
    {
      "cell_type": "markdown",
      "source": [
        "Google Colab runs in a cloud-based environment where each notebook is executed on a virtual machine. This VM is isolated from the internet for security and privacy reasons.\n",
        "\n",
        "Ngrok is a tool that creates secure tunnels to your localhost, allowing you to expose a local development server to the internet. When working in Google Colab, ngrok can be particularly useful for creating web applications or APIs that you want to test or share with others, as it creates tunnels that securely expose the services running inside these VMs to the internet.\n",
        "\n",
        "To use ngrok it is needed to create an account and use the authtoken provided in the account.\n",
        "\n",
        "To open the app, click on the ngrok-free.app link in the results at the end of the program."
      ],
      "metadata": {
        "id": "Grs1feoE6WYs"
      }
    },
    {
      "cell_type": "code",
      "execution_count": null,
      "metadata": {
        "id": "FRaAKE0uzTKv"
      },
      "outputs": [],
      "source": [
        "# Installing the packages\n",
        "!pip install flask pyngrok\n",
        "!pip install diffusers\n",
        "!pip install transformers\n",
        "!pip install accelerate scipy safetensors\n",
        "\n",
        "# Authenticating ngrok\n",
        "!ngrok authtoken # Write your ngrok authtoken here"
      ]
    },
    {
      "cell_type": "code",
      "source": [
        "# Importing the libraries\n",
        "from flask import Flask, request, send_file\n",
        "import io\n",
        "import torch\n",
        "from diffusers import StableDiffusionPipeline\n",
        "import time\n",
        "from pyngrok import ngrok\n",
        "import subprocess\n",
        "\n",
        "\n",
        "# Creating the pipeline. stabilityai/stable-diffusion-2-1 offers a good balance beween precision, speed and resources needed, but there are other stable diffusion models available.\n",
        "pipeline = StableDiffusionPipeline.from_pretrained(\n",
        "    \"stabilityai/stable-diffusion-2-1\", torch_dtype=torch.float16\n",
        ")\n",
        "\n",
        "pipeline = pipeline.to('cuda') # Enabling Cuda\n",
        "\n",
        "# Creating the Flask app\n",
        "app = Flask(__name__)\n",
        "\n",
        "@app.route('/', methods=['GET', 'POST'])\n",
        "def index():\n",
        "    if request.method == 'POST':\n",
        "        prompt = request.form['prompt']\n",
        "        image = pipeline(prompt=prompt).images[0]\n",
        "\n",
        "        # Saving the image to a bytes buffer\n",
        "        img_io = io.BytesIO()\n",
        "        image.save(img_io, 'PNG')\n",
        "        img_io.seek(0)\n",
        "        return send_file(img_io, mimetype='image/png')\n",
        "    return '''\n",
        "        <form method=\"post\">\n",
        "            Enter a prompt: <input type=\"text\" name=\"prompt\"><br>\n",
        "            <input type=\"submit\" value=\"Generate Image\">\n",
        "        </form>\n",
        "    '''\n"
      ],
      "metadata": {
        "id": "UxXHGpgszmQJ"
      },
      "execution_count": null,
      "outputs": []
    },
    {
      "cell_type": "code",
      "source": [
        "# Starting ngrok\n",
        "ngrok_process = subprocess.Popen(['ngrok', 'start', '--config', 'ngrok.yml', '--all'])\n",
        "\n",
        "# Waiting for the ngrok process to initialise\n",
        "time.sleep(5)\n",
        "\n",
        "# Getting the public URL\n",
        "if __name__ == \"__main__\":\n",
        "  try:\n",
        "    public_url = ngrok.connect(8081).public_url\n",
        "    print(public_url)\n",
        "    app.run(host=\"0.0.0.0\", port=8081)\n",
        "  finally:\n",
        "    ngrok.disconnect(public_url=public_url)\n"
      ],
      "metadata": {
        "id": "GBpbe5QmznTX"
      },
      "execution_count": null,
      "outputs": []
    },
    {
      "cell_type": "code",
      "source": [],
      "metadata": {
        "id": "17IDpgozZ7IV"
      },
      "execution_count": null,
      "outputs": []
    }
  ]
}
